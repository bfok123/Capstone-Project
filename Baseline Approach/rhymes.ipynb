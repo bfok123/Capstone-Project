{
 "cells": [
  {
   "cell_type": "code",
   "execution_count": 1,
   "metadata": {},
   "outputs": [],
   "source": [
    "from Phyme import Phyme\n",
    "import string\n",
    "\n",
    "ph = Phyme()"
   ]
  },
  {
   "cell_type": "code",
   "execution_count": 12,
   "metadata": {},
   "outputs": [],
   "source": [
    "def doTheyRhyme(word1, word2):\n",
    "\n",
    "    rhyme_list = []\n",
    "\n",
    "    for v in (ph.get_perfect_rhymes(word1).values()):\n",
    "        rhyme_list = rhyme_list + v\n",
    "\n",
    "    for v in (ph.get_family_rhymes(word1).values()):\n",
    "        rhyme_list = rhyme_list + v\n",
    "\n",
    "    for v in (ph.get_partner_rhymes(word1).values()):\n",
    "        rhyme_list = rhyme_list + v\n",
    "\n",
    "    for v in (ph.get_additive_rhymes(word1).values()):\n",
    "        rhyme_list = rhyme_list + v\n",
    "\n",
    "    for v in (ph.get_subtractive_rhymes(word1).values()):\n",
    "        rhyme_list = rhyme_list + v\n",
    "\n",
    "    #print(rhyme_list)\n",
    "        \n",
    "    if (word2 in rhyme_list):\n",
    "        return True\n",
    "    else:\n",
    "        return False"
   ]
  },
  {
   "cell_type": "code",
   "execution_count": 26,
   "metadata": {},
   "outputs": [],
   "source": [
    "\n",
    "#input: list of lines from a song\n",
    "#output: number of lines that rhyme with each out\n",
    "def howManyRhymes(lyrics):\n",
    "    count = 0\n",
    "    listOfLastWords = []\n",
    "    \n",
    "    #Generate of list of last words from each line\n",
    "    for line in lyrics:\n",
    "        wordsInLine = line.split()\n",
    "        remove_punc = \"\"\n",
    "        wordsInLine[-1] = wordsInLine[-1].lower()\n",
    "        #remove puncuation\n",
    "        for c in wordsInLine[-1]:\n",
    "            if ord(c) >= 97 and ord(c) <= 122:\n",
    "                remove_punc += c\n",
    "        \n",
    "        #only add words (remove any empty strings)\n",
    "        if remove_punc != \"\":\n",
    "            listOfLastWords.append(remove_punc)\n",
    "        print(remove_punc)\n",
    "    \n",
    "    \n",
    "    #Loop through and count rhymes\n",
    "    for i in range(len(listOfLastWords)):\n",
    "        for j in range(len(listOfLastWords)):\n",
    "            if (doTheyRhyme(listOfLastWords[i], listOfLastWords[j]) == True and i != j):\n",
    "                count = count + 1\n",
    "            #else:\n",
    "                #print(listOfLastWords[i] + \" and \" + listOfLastWords[j] + \" do not rhyme!\")\n",
    "                \n",
    "                \n",
    "    return count"
   ]
  },
  {
   "cell_type": "code",
   "execution_count": null,
   "metadata": {},
   "outputs": [],
   "source": []
  },
  {
   "cell_type": "code",
   "execution_count": 29,
   "metadata": {},
   "outputs": [
    {
     "name": "stdout",
     "output_type": "stream",
     "text": [
      "cant\n",
      "chant\n",
      "sam\n",
      "ham\n",
      "There are 4 lines that end in rhymes\n"
     ]
    }
   ],
   "source": [
    "#Example of input and output, right now it breaks if there is punctuation at the end of each line\n",
    "\n",
    "lyrics = [\"sometimes I really just cant\", \"and all I want to do is chant\", \"yo my name is sam\", \"and my favorite food is ham\"]\n",
    "\n",
    "print(\"There are \" + str(howManyRhymes(lyrics)) + \" lines that end in rhymes\")"
   ]
  },
  {
   "cell_type": "code",
   "execution_count": null,
   "metadata": {},
   "outputs": [],
   "source": []
  }
 ],
 "metadata": {
  "kernelspec": {
   "display_name": "Python 3",
   "language": "python",
   "name": "python3"
  },
  "language_info": {
   "codemirror_mode": {
    "name": "ipython",
    "version": 3
   },
   "file_extension": ".py",
   "mimetype": "text/x-python",
   "name": "python",
   "nbconvert_exporter": "python",
   "pygments_lexer": "ipython3",
   "version": "3.7.6"
  }
 },
 "nbformat": 4,
 "nbformat_minor": 2
}
