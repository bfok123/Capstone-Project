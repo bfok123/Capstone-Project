{
 "cells": [
  {
   "cell_type": "code",
   "execution_count": 23,
   "metadata": {},
   "outputs": [],
   "source": [
    "from Phyme import Phyme\n",
    "\n",
    "ph = Phyme()"
   ]
  },
  {
   "cell_type": "code",
   "execution_count": 78,
   "metadata": {},
   "outputs": [],
   "source": [
    "def doTheyRhyme(word1, word2):\n",
    "\n",
    "    rhyme_list = []\n",
    "\n",
    "    for v in (ph.get_perfect_rhymes(word1).values()):\n",
    "        rhyme_list = rhyme_list + v\n",
    "\n",
    "    for v in (ph.get_family_rhymes(word1).values()):\n",
    "        rhyme_list = rhyme_list + v\n",
    "\n",
    "    for v in (ph.get_partner_rhymes(word1).values()):\n",
    "        rhyme_list = rhyme_list + v\n",
    "\n",
    "    for v in (ph.get_additive_rhymes(word1).values()):\n",
    "        rhyme_list = rhyme_list + v\n",
    "\n",
    "    for v in (ph.get_subtractive_rhymes(word1).values()):\n",
    "        rhyme_list = rhyme_list + v\n",
    "\n",
    "    #print(rhyme_list)\n",
    "        \n",
    "    if (word2 in rhyme_list):\n",
    "        return True\n",
    "    else:\n",
    "        return False"
   ]
  },
  {
   "cell_type": "code",
   "execution_count": 99,
   "metadata": {},
   "outputs": [],
   "source": [
    "\n",
    "#input: list of lines from a song\n",
    "#output: number of lines that rhyme with each out\n",
    "def howManyRhymes(lyrics):\n",
    "    count = 0\n",
    "    listOfLastWords = []\n",
    "    \n",
    "    #Generate of list of last words from each line\n",
    "    for line in lyrics:\n",
    "        wordsInLine = line.split()\n",
    "        listOfLastWords.append(wordsInLine[-1])\n",
    "    \n",
    "    \n",
    "    #Loop through and count rhymes\n",
    "    for i in range(len(listOfLastWords)):\n",
    "        for j in range(len(listOfLastWords)):\n",
    "            if (doTheyRhyme(listOfLastWords[i], listOfLastWords[j]) == True and i != j):\n",
    "                count = count + 1\n",
    "            #else:\n",
    "                #print(listOfLastWords[i] + \" and \" + listOfLastWords[j] + \" do not rhyme!\")\n",
    "                \n",
    "                \n",
    "    return count"
   ]
  },
  {
   "cell_type": "code",
   "execution_count": 101,
   "metadata": {},
   "outputs": [
    {
     "name": "stdout",
     "output_type": "stream",
     "text": [
      "There are 4lines that end in rhymes\n"
     ]
    }
   ],
   "source": [
    "#Example of input and output, right now it breaks if there is punctuation at the end of each line\n",
    "\n",
    "lyrics = [\"sometimes I really just cant\", \"and all I want to do is chant\", \"yo my name is sam\", \"and my favorite food is ham\"]\n",
    "\n",
    "print(\"There are \" + str(howManyRhymes(lyrics)) + \"lines that end in rhymes\")"
   ]
  },
  {
   "cell_type": "code",
   "execution_count": 81,
   "metadata": {},
   "outputs": [
    {
     "name": "stdout",
     "output_type": "stream",
     "text": [
      "yup\n"
     ]
    }
   ],
   "source": [
    "if (doTheyRhyme(\"ant\", \"chant\") == True):\n",
    "    print(\"yup\")"
   ]
  },
  {
   "cell_type": "code",
   "execution_count": null,
   "metadata": {},
   "outputs": [],
   "source": []
  }
 ],
 "metadata": {
  "kernelspec": {
   "display_name": "Python 3",
   "language": "python",
   "name": "python3"
  },
  "language_info": {
   "codemirror_mode": {
    "name": "ipython",
    "version": 3
   },
   "file_extension": ".py",
   "mimetype": "text/x-python",
   "name": "python",
   "nbconvert_exporter": "python",
   "pygments_lexer": "ipython3",
   "version": "3.7.3"
  }
 },
 "nbformat": 4,
 "nbformat_minor": 2
}
