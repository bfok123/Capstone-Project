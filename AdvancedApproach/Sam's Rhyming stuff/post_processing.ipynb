{
 "cells": [
  {
   "cell_type": "code",
   "execution_count": 8,
   "metadata": {},
   "outputs": [],
   "source": [
    "from textgenrnn import textgenrnn\n",
    "import pandas\n",
    "import numpy as np\n",
    "import rhymes\n",
    "import importlib\n",
    "importlib.reload(rhymes)\n",
    "import re\n",
    "\n",
    "word_level_model = textgenrnn('full_dataset_word_level.hdf5',\n",
    "                                  vocab_path='word_level_vocab.json',\n",
    "                                  config_path='word_level_config.json')\n",
    "\n"
   ]
  },
  {
   "cell_type": "code",
   "execution_count": 9,
   "metadata": {},
   "outputs": [],
   "source": [
    "#uses model to generate a list of lyrics\n",
    "def gen_lyrics():\n",
    "\n",
    "    word_level_model = textgenrnn('full_dataset_word_level.hdf5',\n",
    "                                  vocab_path='word_level_vocab.json',\n",
    "                                  config_path='word_level_config.json')\n",
    "\n",
    "    lyrics = word_level_model.generate(1, temperature=1.0, max_gen_length=1000, return_as_list=True)\n",
    "    \n",
    "    return lyrics\n",
    "\n",
    "#Input: A list of generated lines\n",
    "#Output: dictionary where the keys are the rhymes and the values are a list of lines that rhyme\n",
    "def post_process(lines):\n",
    "\n",
    "    rhyme_dict = dict()\n",
    "\n",
    "    #Generate of list of last words from each line\n",
    "    for index, line in enumerate(lines):\n",
    "        if (len(line) == 0):\n",
    "            continue\n",
    "        try:\n",
    "            wordsInLine = line.split()\n",
    "            curr_word = \"\"\n",
    "            wordsInLine[-1] = wordsInLine[-1].lower()\n",
    "            #remove puncuation\n",
    "            for c in wordsInLine[-1]:\n",
    "                if ord(c) >= 97 and ord(c) <= 122:\n",
    "                    curr_word += c\n",
    "\n",
    "            #only add words (remove any empty strings)\n",
    "            if curr_word != \"\":\n",
    "                IT_RHYMES_BABYYY = False\n",
    "                for key in rhyme_dict.keys():\n",
    "                    if (rhymes.doTheyRhyme(curr_word, key)):\n",
    "                        rhyme_dict[key].append(index)\n",
    "                        IT_RHYMES_BABYYY = True\n",
    "                if (not IT_RHYMES_BABYYY):\n",
    "                    rhyme_dict[curr_word] = [index]\n",
    "        except:\n",
    "            print (curr_word, ' was not found in the dictionary')\n",
    "            continue\n",
    "\n",
    "    return rhyme_dict\n",
    "\n",
    "#Input dictionary of rhymes with their corresponding line number\n",
    "#Output: sorts each list of lines in the dictionary\n",
    "def sort_dict(rhymes):\n",
    "    \n",
    "    #loop through each key\n",
    "    for key in rhymes.keys():\n",
    "        #get the list of lines associated with the rhyme\n",
    "        index_list = rhymes[key]\n",
    "        length = len(index_list)\n",
    "        if (length < 2):\n",
    "            continue\n",
    "        \n",
    "        #get a list of each distance between the list of lines\n",
    "        distances = []\n",
    "        distances.append(index_list[1] - index_list[0])\n",
    "        for i in range(1, length - 1):\n",
    "            distances.append(min(index_list[i] - index_list[i - 1], index_list[i + 1] - index_list[i]))\n",
    "\n",
    "        distances.append(index_list[length - 1] - index_list[length - 2])\n",
    "\n",
    "        \n",
    "        #do some cool sorting stuff where you sort distances and the list of lines in parallel\n",
    "        distances, index_list = zip(*sorted(zip(distances, index_list)))\n",
    "        distances, index_list = (list(t) for t in zip(*sorted(zip(distances, index_list))))\n",
    "        print(index_list)\n",
    "        print(distances)\n",
    "        \n",
    "        #add the sorted list back to the dictionary\n",
    "        rhymes[key] = index_list\n",
    "\n",
    "\n",
    "\n",
    "#Uses dictionary of rhyming lines to generate lyrics with a user's rhyming sequence\n",
    "def out1(lines, rhyme_dictionary):\n",
    "    print ('What rhyming scheme would you like to use? (A to Z)')\n",
    "    rhyme_scheme = input()\n",
    "    if (not re.fullmatch('[A-Z]+', rhyme_scheme)):\n",
    "        print ('That is not a valid rhyming scheme.')\n",
    "        exit()\n",
    "\n",
    "    # count the required number of lines for each letter/section of the rhyming scheme\n",
    "    rhyme_counts = dict()\n",
    "    for char in rhyme_scheme:\n",
    "        if char in rhyme_counts:\n",
    "            rhyme_counts[char] += 1\n",
    "        else:\n",
    "            rhyme_counts[char] = 1\n",
    "    print (rhyme_counts)\n",
    "\n",
    "    # map each letter/section of the rhyming scheme to a rhyme in rhyme_dict\n",
    "    used_rhymes = set()\n",
    "    letter_to_rhyme = dict()\n",
    "    for letter in rhyme_counts.keys():\n",
    "        for rhyme in rhyme_dictionary.keys():\n",
    "            # if the current rhyme has enough rhymes for the current letter in the rhyming scheme\n",
    "            # AND the rhyme hasn't been used, use it\n",
    "            if (len(rhyme_dictionary[rhyme]) >= rhyme_counts[letter] and rhyme not in used_rhymes):\n",
    "                letter_to_rhyme[letter] = rhyme_dictionary[rhyme]\n",
    "                used_rhymes.add(rhyme)\n",
    "                break\n",
    "\n",
    "    print (letter_to_rhyme)\n",
    "\n",
    "    # print the results!\n",
    "    rhyme_indices = dict()\n",
    "    for char in rhyme_scheme:\n",
    "        if (char not in rhyme_indices):\n",
    "            print (lines[letter_to_rhyme[char][0]])\n",
    "            rhyme_indices[char] = 1\n",
    "        else:\n",
    "            print (lines[letter_to_rhyme[char][rhyme_indices[char]]])\n",
    "            rhyme_indices[char] += 1"
   ]
  },
  {
   "cell_type": "code",
   "execution_count": 10,
   "metadata": {},
   "outputs": [],
   "source": [
    "lines = gen_lyrics()[0].splitlines()"
   ]
  },
  {
   "cell_type": "code",
   "execution_count": 11,
   "metadata": {},
   "outputs": [
    {
     "name": "stdout",
     "output_type": "stream",
     "text": [
      "dont  was not found in the dictionary\n"
     ]
    }
   ],
   "source": [
    "rhymes = post_process(lines)\n",
    "sort_dict(rhymes)"
   ]
  },
  {
   "cell_type": "code",
   "execution_count": 31,
   "metadata": {
    "scrolled": true
   },
   "outputs": [
    {
     "name": "stdout",
     "output_type": "stream",
     "text": [
      "What rhyming scheme would you like to use? (A to Z)\n",
      "BBBBBAAA\n",
      "{'B': 5, 'A': 3}\n",
      "{'B': [26, 28, 32, 9, 86], 'A': [3, 37, 92]}\n",
      "i'm myself to make my life us rather live without yo\n",
      "you wanna take not on the crowd who says you could never know\n",
      "i wanna know where it should be,, aye, aye, so o...\n",
      "wake me with the earth below\n",
      "go (go - wo - wo - wo - wo oh)\n",
      "and faith through your eyes, just as long as shine\n",
      "date lots of time.\n",
      "my heart is painted on the love of the line\n"
     ]
    }
   ],
   "source": [
    "out1(lines, rhymes)"
   ]
  },
  {
   "cell_type": "code",
   "execution_count": 29,
   "metadata": {},
   "outputs": [
    {
     "name": "stdout",
     "output_type": "stream",
     "text": [
      "[74, 91]\n",
      "[-17, -17]\n",
      "[3, 37, 92]\n",
      "[34, 34, 55]\n",
      "[26, 28, 32, 9, 86]\n",
      "[2, 2, 4, 17, 54]\n",
      "[10, 59]\n",
      "[49, 49]\n",
      "[53, 57, 68, 17]\n",
      "[4, 4, 11, 36]\n",
      "[35, 50]\n",
      "[15, 15]\n",
      "[25, 73]\n",
      "[48, 48]\n",
      "[27, 39, 51]\n",
      "[12, 12, 12]\n",
      "[30, 45]\n",
      "[15, 15]\n",
      "[61, 70]\n",
      "[9, 9]\n",
      "[41, 64]\n",
      "[23, 23]\n",
      "[43, 54]\n",
      "[11, 11]\n",
      "[55, 72]\n",
      "[17, 17]\n",
      "[62, 67]\n",
      "[5, 5]\n"
     ]
    }
   ],
   "source": [
    "\n",
    "    "
   ]
  },
  {
   "cell_type": "code",
   "execution_count": 17,
   "metadata": {},
   "outputs": [
    {
     "name": "stdout",
     "output_type": "stream",
     "text": [
      "(1, 1, 2, 3, 4)\n",
      "('one', 'one2', 'two', 'three', 'four')\n"
     ]
    }
   ],
   "source": [
    "list1 = [3,2,4,1, 1]\n",
    "list2 = ['three', 'two', 'four', 'one', 'one2']\n",
    "list1, list2 = zip(*sorted(zip(list1, list2)))\n",
    "print(list1)\n",
    "print(list2)"
   ]
  },
  {
   "cell_type": "code",
   "execution_count": null,
   "metadata": {},
   "outputs": [],
   "source": []
  }
 ],
 "metadata": {
  "kernelspec": {
   "display_name": "Python 3",
   "language": "python",
   "name": "python3"
  },
  "language_info": {
   "codemirror_mode": {
    "name": "ipython",
    "version": 3
   },
   "file_extension": ".py",
   "mimetype": "text/x-python",
   "name": "python",
   "nbconvert_exporter": "python",
   "pygments_lexer": "ipython3",
   "version": "3.7.3"
  }
 },
 "nbformat": 4,
 "nbformat_minor": 2
}
