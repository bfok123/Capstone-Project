{
 "cells": [
  {
   "cell_type": "code",
   "execution_count": 69,
   "metadata": {},
   "outputs": [],
   "source": [
    "from textgenrnn import textgenrnn\n",
    "import pandas\n",
    "import numpy as np\n",
    "import rhymes as r\n",
    "import importlib\n",
    "importlib.reload(r)\n",
    "import re\n",
    "\n",
    "word_intro_model = textgenrnn('weights/intro_model_weights.hdf5',\n",
    "                                vocab_path='weights/intro_model_vocab.json',\n",
    "                                config_path='weights/intro_model_config.json')\n",
    "\n",
    "word_chorus_model = textgenrnn('weights/chorus_model_weights.hdf5',\n",
    "                                vocab_path='weights/chorus_model_vocab.json',\n",
    "                                config_path='weights/chorus_model_config.json')\n",
    "\n",
    "word_verse_model = textgenrnn('weights/verse_model_weights.hdf5',\n",
    "                                vocab_path='weights/verse_model_vocab.json',\n",
    "                                config_path='weights/verse_model_config.json')\n",
    "\n",
    "word_bridge_model = textgenrnn('weights/bridge_model_weights.hdf5',\n",
    "                                vocab_path='weights/bridge_model_vocab.json',\n",
    "                                config_path='weights/bridge_model_config.json')\n",
    "\n",
    "word_outro_model = textgenrnn('weights/outro_model_weights.hdf5',\n",
    "                                vocab_path='weights/outro_model_vocab.json',\n",
    "                                config_path='weights/outro_model_config.json')\n",
    "\n"
   ]
  },
  {
   "cell_type": "code",
   "execution_count": 106,
   "metadata": {},
   "outputs": [],
   "source": [
    "#uses model to generate a list of lyrics\n",
    "def gen_lyrics(model):\n",
    "\n",
    "    lyrics = model.generate(10, temperature=1.2, max_gen_length=1000, return_as_list=True)\n",
    "    \n",
    "    return lyrics\n",
    "\n",
    "#Input: A list of generated lines\n",
    "#Output: dictionary where the keys are the rhymes and the values are a list of lines that rhyme\n",
    "def post_process(lines):\n",
    "\n",
    "    rhyme_dict = dict()\n",
    "\n",
    "    #Generate of list of last words from each line\n",
    "    for index, line in enumerate(lines):\n",
    "        if (len(line) == 0):\n",
    "            continue\n",
    "        try:\n",
    "            wordsInLine = line.split()\n",
    "            curr_word = \"\"\n",
    "            wordsInLine[-1] = wordsInLine[-1].lower()\n",
    "            #remove puncuation\n",
    "            for c in wordsInLine[-1]:\n",
    "                if ord(c) >= 97 and ord(c) <= 122:\n",
    "                    curr_word += c\n",
    "            #only add words (remove any empty strings)\n",
    "            if curr_word != \"\":\n",
    "                IT_RHYMES_BABYYY = False\n",
    "                for key in rhyme_dict.keys():\n",
    "                    if (r.doTheyRhyme(curr_word, key)):\n",
    "                        rhyme_dict[key].append(index)\n",
    "                        IT_RHYMES_BABYYY = True\n",
    "                if (not IT_RHYMES_BABYYY):\n",
    "                    rhyme_dict[curr_word] = [index]\n",
    "        except:\n",
    "            print (curr_word, 'was not found in the dictionary')\n",
    "            continue\n",
    "\n",
    "    return rhyme_dict\n",
    "\n",
    "#Input dictionary of rhymes with their corresponding line number\n",
    "#Output: sorts each list of lines in the dictionary\n",
    "def sort_dict(rhymes_dict):\n",
    "    \n",
    "    #loop through each key\n",
    "    for key in rhymes_dict.keys():\n",
    "        #get the list of lines associated with the rhyme\n",
    "        index_list = rhymes_dict[key]\n",
    "        length = len(index_list)\n",
    "        if (length < 2):\n",
    "            continue\n",
    "        \n",
    "        #get a list of each distance between the list of lines\n",
    "        distances = []\n",
    "        distances.append(index_list[1] - index_list[0])\n",
    "        for i in range(1, length - 1):\n",
    "            distances.append(min(index_list[i] - index_list[i - 1], index_list[i + 1] - index_list[i]))\n",
    "\n",
    "        distances.append(index_list[length - 1] - index_list[length - 2])\n",
    "\n",
    "        \n",
    "        #do some cool sorting stuff where you sort distances and the list of lines in parallel\n",
    "        distances, index_list = zip(*sorted(zip(distances, index_list)))\n",
    "        distances, index_list = (list(t) for t in zip(*sorted(zip(distances, index_list))))\n",
    "        print(index_list)\n",
    "        print(distances)\n",
    "        \n",
    "        #add the sorted list back to the dictionary\n",
    "        rhymes_dict[key] = index_list\n",
    "\n",
    "\n",
    "\n",
    "#Uses dictionary of rhyming lines to generate lyrics with a user's rhyming sequence\n",
    "def out1(lines, rhyme_dictionary):\n",
    "    print ('What rhyming scheme would you like to use? (A to Z)')\n",
    "    rhyme_scheme = input()\n",
    "    if (not re.fullmatch('[A-Z]+', rhyme_scheme)):\n",
    "        print ('That is not a valid rhyming scheme.')\n",
    "        exit()\n",
    "\n",
    "    # count the required number of lines for each letter/section of the rhyming scheme\n",
    "    rhyme_counts = dict()\n",
    "    for char in rhyme_scheme:\n",
    "        if char in rhyme_counts:\n",
    "            rhyme_counts[char] += 1\n",
    "        else:\n",
    "            rhyme_counts[char] = 1\n",
    "    print (rhyme_counts)\n",
    "\n",
    "    # map each letter/section of the rhyming scheme to a rhyme in rhyme_dict\n",
    "    used_rhymes = set()\n",
    "    letter_to_rhyme = dict()\n",
    "    for letter in rhyme_counts.keys():\n",
    "        for rhyme in rhyme_dictionary.keys():\n",
    "            # if the current rhyme has enough rhymes for the current letter in the rhyming scheme\n",
    "            # AND the rhyme hasn't been used, use it\n",
    "            if (len(rhyme_dictionary[rhyme]) >= rhyme_counts[letter] and rhyme not in used_rhymes):\n",
    "                letter_to_rhyme[letter] = rhyme_dictionary[rhyme]\n",
    "                used_rhymes.add(rhyme)\n",
    "                break\n",
    "\n",
    "    print (letter_to_rhyme)\n",
    "\n",
    "    # print the results!\n",
    "    rhyme_indices = dict()\n",
    "    for char in rhyme_scheme:\n",
    "        if (char not in rhyme_indices):\n",
    "            print (lines[letter_to_rhyme[char][0]])\n",
    "            rhyme_indices[char] = 1\n",
    "        else:\n",
    "            print (lines[letter_to_rhyme[char][rhyme_indices[char]]])\n",
    "            rhyme_indices[char] += 1"
   ]
  },
  {
   "cell_type": "code",
   "execution_count": 102,
   "metadata": {},
   "outputs": [
    {
     "name": "stderr",
     "output_type": "stream",
     "text": [
      "100%|██████████████████████████████████████████████████████████████████████████████████| 10/10 [00:13<00:00,  1.01it/s]\n"
     ]
    }
   ],
   "source": [
    "lines = gen_lyrics(word_verse_model)\n",
    "lines2 = []\n",
    "for line in lines:\n",
    "    split = line.splitlines()\n",
    "    for l in split:\n",
    "        lines2.append(l)"
   ]
  },
  {
   "cell_type": "code",
   "execution_count": 107,
   "metadata": {},
   "outputs": [
    {
     "name": "stdout",
     "output_type": "stream",
     "text": [
      "mami was not found in the dictionary\n",
      "lessand was not found in the dictionary\n",
      "[0, 31]\n",
      "[31, 31]\n",
      "[16, 17, 14, 22, 6]\n",
      "[1, 1, 2, 5, 8]\n",
      "[7, 36]\n",
      "[29, 29]\n",
      "[26, 34]\n",
      "[8, 8]\n",
      "[19, 33]\n",
      "[14, 14]\n"
     ]
    }
   ],
   "source": [
    "rhymes_dict = post_process(lines2)\n",
    "sort_dict(rhymes_dict)"
   ]
  },
  {
   "cell_type": "code",
   "execution_count": 108,
   "metadata": {
    "scrolled": true
   },
   "outputs": [
    {
     "name": "stdout",
     "output_type": "stream",
     "text": [
      "What rhyming scheme would you like to use? (A to Z)\n",
      "AABB\n",
      "{'A': 2, 'B': 2}\n",
      "{'A': [0, 31], 'B': [16, 17, 14, 22, 6]}\n",
      "well a playboy inside neighborhood,, i, turn the key\n",
      "but don t be like i m just set free\n",
      ", you, like the, you,\n",
      "too\n"
     ]
    }
   ],
   "source": [
    "out1(lines2, rhymes_dict)"
   ]
  },
  {
   "cell_type": "code",
   "execution_count": 104,
   "metadata": {},
   "outputs": [
    {
     "name": "stdout",
     "output_type": "stream",
     "text": [
      "well a playboy inside neighborhood,, i, turn the key\n",
      "inside how the d turn to how inside but how the d turn inside how d matter\n",
      "again\n",
      "(talkin'the chains when i goodbyes\n",
      "you you to the mess you wanna, him\n",
      "when it\n",
      "i m used to to up the run, i don t know what to do\n",
      "\n",
      "i feel that you might love, it s not just a lie\n",
      "unless it s that you lighting me up\n",
      "to me realize that can t love i have my mind\n",
      "\n",
      "love you, mami, i - i love you, mami\n",
      "(- i pardon\n",
      "i the, i, you, i know you (\n",
      "what i would, you and less,and\n",
      "never, you,\n",
      "the\n",
      ", you, like the, you,\n",
      "too\n",
      "all, like\n",
      "twisted, just, make feel your,\n",
      "i took us from the bottom\n",
      "\n",
      "uh in the mirror\n",
      "\n",
      "boy, would you get up to know you\n",
      "i know youre always talking\n",
      "saying you want to stay\n",
      "every night that you fake you miss me all the that we feel print,\n",
      "\n",
      "just get up off me of my mind\n",
      "instead of moving on the\n",
      "come on, hold,, wont, stop,\n",
      "i refuse it to go, yeah\n",
      "\n",
      "come along with me and not scared\n",
      "but don t be like i m just set free\n",
      "\n",
      "hello,\n",
      "how did it was before\n",
      "\n",
      "nobody knows all i wanna find\n",
      "papa\",, cuffed,\n",
      "i just can traffic, you, so i\n",
      "\n"
     ]
    }
   ],
   "source": [
    "for line in lines:\n",
    "    print(line)"
   ]
  },
  {
   "cell_type": "code",
   "execution_count": 105,
   "metadata": {},
   "outputs": [
    {
     "name": "stdout",
     "output_type": "stream",
     "text": [
      "{'key': [0, 31], 'matter': [1], 'again': [2], 'goodbyes': [3], 'him': [4], 'it': [5], 'do': [6, 14, 16, 17, 22], 'lie': [7, 36], 'up': [8], 'mind': [26, 34], 'pardon': [11], 'the': [27], 'like': [18], 'your': [19, 33], 'bottom': [20], 'mirror': [21], 'talking': [23], 'stay': [24], 'print': [25], 'stop': [28], 'yeah': [29], 'scared': [30], 'hello': [32], 'cuffed': [35]}\n"
     ]
    }
   ],
   "source": [
    "print(rhymes_dict)"
   ]
  },
  {
   "cell_type": "code",
   "execution_count": null,
   "metadata": {},
   "outputs": [],
   "source": []
  }
 ],
 "metadata": {
  "kernelspec": {
   "display_name": "Python 3",
   "language": "python",
   "name": "python3"
  },
  "language_info": {
   "codemirror_mode": {
    "name": "ipython",
    "version": 3
   },
   "file_extension": ".py",
   "mimetype": "text/x-python",
   "name": "python",
   "nbconvert_exporter": "python",
   "pygments_lexer": "ipython3",
   "version": "3.7.3"
  }
 },
 "nbformat": 4,
 "nbformat_minor": 2
}
