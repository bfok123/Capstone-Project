{
 "cells": [
  {
   "cell_type": "code",
   "execution_count": 2,
   "metadata": {},
   "outputs": [
    {
     "name": "stderr",
     "output_type": "stream",
     "text": [
      "Using TensorFlow backend.\n"
     ]
    }
   ],
   "source": [
    "from textgenrnn import textgenrnn\n",
    "import pandas\n",
    "import numpy as np\n",
    "import rhymes\n",
    "import importlib\n",
    "importlib.reload(rhymes)\n",
    "import re\n",
    "\n",
    "word_chorus_model = textgenrnn('weights/chorus_model_weights.hdf5',\n",
    "                                vocab_path='weights/chorus_model_vocab.json',\n",
    "                                config_path='weights/chorus_model_config.json')\n",
    "\n"
   ]
  },
  {
   "cell_type": "code",
   "execution_count": 3,
   "metadata": {},
   "outputs": [],
   "source": [
    "#uses model to generate a list of lyrics\n",
    "def gen_lyrics():\n",
    "\n",
    "    word_level_model = textgenrnn('full_dataset_word_level.hdf5',\n",
    "                                  vocab_path='word_level_vocab.json',\n",
    "                                  config_path='word_level_config.json')\n",
    "\n",
    "    lyrics = word_level_model.generate(1, temperature=1.0, max_gen_length=1000, return_as_list=True)\n",
    "    \n",
    "    return lyrics\n",
    "\n",
    "#Input: A list of generated lines\n",
    "#Output: dictionary where the keys are the rhymes and the values are a list of lines that rhyme\n",
    "def post_process(lines):\n",
    "\n",
    "    rhyme_dict = dict()\n",
    "\n",
    "    #Generate of list of last words from each line\n",
    "    for index, line in enumerate(lines):\n",
    "        if (len(line) == 0):\n",
    "            continue\n",
    "        try:\n",
    "            wordsInLine = line.split()\n",
    "            curr_word = \"\"\n",
    "            wordsInLine[-1] = wordsInLine[-1].lower()\n",
    "            #remove puncuation\n",
    "            for c in wordsInLine[-1]:\n",
    "                if ord(c) >= 97 and ord(c) <= 122:\n",
    "                    curr_word += c\n",
    "\n",
    "            #only add words (remove any empty strings)\n",
    "            if curr_word != \"\":\n",
    "                IT_RHYMES_BABYYY = False\n",
    "                for key in rhyme_dict.keys():\n",
    "                    if (rhymes.doTheyRhyme(curr_word, key)):\n",
    "                        rhyme_dict[key].append(index)\n",
    "                        IT_RHYMES_BABYYY = True\n",
    "                if (not IT_RHYMES_BABYYY):\n",
    "                    rhyme_dict[curr_word] = [index]\n",
    "        except:\n",
    "            print (curr_word, ' was not found in the dictionary')\n",
    "            continue\n",
    "\n",
    "    return rhyme_dict\n",
    "\n",
    "#Input dictionary of rhymes with their corresponding line number\n",
    "#Output: sorts each list of lines in the dictionary\n",
    "def sort_dict(rhymes):\n",
    "    \n",
    "    #loop through each key\n",
    "    for key in rhymes.keys():\n",
    "        #get the list of lines associated with the rhyme\n",
    "        index_list = rhymes[key]\n",
    "        length = len(index_list)\n",
    "        if (length < 2):\n",
    "            continue\n",
    "        \n",
    "        #get a list of each distance between the list of lines\n",
    "        distances = []\n",
    "        distances.append(index_list[1] - index_list[0])\n",
    "        for i in range(1, length - 1):\n",
    "            distances.append(min(index_list[i] - index_list[i - 1], index_list[i + 1] - index_list[i]))\n",
    "\n",
    "        distances.append(index_list[length - 1] - index_list[length - 2])\n",
    "\n",
    "        \n",
    "        #do some cool sorting stuff where you sort distances and the list of lines in parallel\n",
    "        distances, index_list = zip(*sorted(zip(distances, index_list)))\n",
    "        distances, index_list = (list(t) for t in zip(*sorted(zip(distances, index_list))))\n",
    "        print(index_list)\n",
    "        print(distances)\n",
    "        \n",
    "        #add the sorted list back to the dictionary\n",
    "        rhymes[key] = index_list\n",
    "\n",
    "\n",
    "\n",
    "#Uses dictionary of rhyming lines to generate lyrics with a user's rhyming sequence\n",
    "def out1(lines, rhyme_dictionary):\n",
    "    print ('What rhyming scheme would you like to use? (A to Z)')\n",
    "    rhyme_scheme = input()\n",
    "    if (not re.fullmatch('[A-Z]+', rhyme_scheme)):\n",
    "        print ('That is not a valid rhyming scheme.')\n",
    "        exit()\n",
    "\n",
    "    # count the required number of lines for each letter/section of the rhyming scheme\n",
    "    rhyme_counts = dict()\n",
    "    for char in rhyme_scheme:\n",
    "        if char in rhyme_counts:\n",
    "            rhyme_counts[char] += 1\n",
    "        else:\n",
    "            rhyme_counts[char] = 1\n",
    "    print (rhyme_counts)\n",
    "\n",
    "    # map each letter/section of the rhyming scheme to a rhyme in rhyme_dict\n",
    "    used_rhymes = set()\n",
    "    letter_to_rhyme = dict()\n",
    "    for letter in rhyme_counts.keys():\n",
    "        for rhyme in rhyme_dictionary.keys():\n",
    "            # if the current rhyme has enough rhymes for the current letter in the rhyming scheme\n",
    "            # AND the rhyme hasn't been used, use it\n",
    "            if (len(rhyme_dictionary[rhyme]) >= rhyme_counts[letter] and rhyme not in used_rhymes):\n",
    "                letter_to_rhyme[letter] = rhyme_dictionary[rhyme]\n",
    "                used_rhymes.add(rhyme)\n",
    "                break\n",
    "\n",
    "    print (letter_to_rhyme)\n",
    "\n",
    "    # print the results!\n",
    "    rhyme_indices = dict()\n",
    "    for char in rhyme_scheme:\n",
    "        if (char not in rhyme_indices):\n",
    "            print (lines[letter_to_rhyme[char][0]])\n",
    "            rhyme_indices[char] = 1\n",
    "        else:\n",
    "            print (lines[letter_to_rhyme[char][rhyme_indices[char]]])\n",
    "            rhyme_indices[char] += 1"
   ]
  },
  {
   "cell_type": "code",
   "execution_count": 4,
   "metadata": {},
   "outputs": [
    {
     "ename": "FileNotFoundError",
     "evalue": "[Errno 2] No such file or directory: 'word_level_config.json'",
     "output_type": "error",
     "traceback": [
      "\u001b[1;31m---------------------------------------------------------------------------\u001b[0m",
      "\u001b[1;31mFileNotFoundError\u001b[0m                         Traceback (most recent call last)",
      "\u001b[1;32m<ipython-input-4-8edc03d4acf0>\u001b[0m in \u001b[0;36m<module>\u001b[1;34m\u001b[0m\n\u001b[1;32m----> 1\u001b[1;33m \u001b[0mlines\u001b[0m \u001b[1;33m=\u001b[0m \u001b[0mgen_lyrics\u001b[0m\u001b[1;33m(\u001b[0m\u001b[1;33m)\u001b[0m\u001b[1;33m[\u001b[0m\u001b[1;36m0\u001b[0m\u001b[1;33m]\u001b[0m\u001b[1;33m.\u001b[0m\u001b[0msplitlines\u001b[0m\u001b[1;33m(\u001b[0m\u001b[1;33m)\u001b[0m\u001b[1;33m\u001b[0m\u001b[1;33m\u001b[0m\u001b[0m\n\u001b[0m",
      "\u001b[1;32m<ipython-input-3-a404f56c982a>\u001b[0m in \u001b[0;36mgen_lyrics\u001b[1;34m()\u001b[0m\n\u001b[0;32m      4\u001b[0m     word_level_model = textgenrnn('full_dataset_word_level.hdf5',\n\u001b[0;32m      5\u001b[0m                                   \u001b[0mvocab_path\u001b[0m\u001b[1;33m=\u001b[0m\u001b[1;34m'word_level_vocab.json'\u001b[0m\u001b[1;33m,\u001b[0m\u001b[1;33m\u001b[0m\u001b[1;33m\u001b[0m\u001b[0m\n\u001b[1;32m----> 6\u001b[1;33m                                   config_path='word_level_config.json')\n\u001b[0m\u001b[0;32m      7\u001b[0m \u001b[1;33m\u001b[0m\u001b[0m\n\u001b[0;32m      8\u001b[0m     \u001b[0mlyrics\u001b[0m \u001b[1;33m=\u001b[0m \u001b[0mword_level_model\u001b[0m\u001b[1;33m.\u001b[0m\u001b[0mgenerate\u001b[0m\u001b[1;33m(\u001b[0m\u001b[1;36m1\u001b[0m\u001b[1;33m,\u001b[0m \u001b[0mtemperature\u001b[0m\u001b[1;33m=\u001b[0m\u001b[1;36m1.0\u001b[0m\u001b[1;33m,\u001b[0m \u001b[0mmax_gen_length\u001b[0m\u001b[1;33m=\u001b[0m\u001b[1;36m1000\u001b[0m\u001b[1;33m,\u001b[0m \u001b[0mreturn_as_list\u001b[0m\u001b[1;33m=\u001b[0m\u001b[1;32mTrue\u001b[0m\u001b[1;33m)\u001b[0m\u001b[1;33m\u001b[0m\u001b[1;33m\u001b[0m\u001b[0m\n",
      "\u001b[1;32m~\\Anaconda3\\lib\\site-packages\\textgenrnn\\textgenrnn.py\u001b[0m in \u001b[0;36m__init__\u001b[1;34m(self, weights_path, vocab_path, config_path, name, allow_growth)\u001b[0m\n\u001b[0;32m     59\u001b[0m         \u001b[1;32mif\u001b[0m \u001b[0mconfig_path\u001b[0m \u001b[1;32mis\u001b[0m \u001b[1;32mnot\u001b[0m \u001b[1;32mNone\u001b[0m\u001b[1;33m:\u001b[0m\u001b[1;33m\u001b[0m\u001b[1;33m\u001b[0m\u001b[0m\n\u001b[0;32m     60\u001b[0m             with open(config_path, 'r',\n\u001b[1;32m---> 61\u001b[1;33m                       encoding='utf8', errors='ignore') as json_file:\n\u001b[0m\u001b[0;32m     62\u001b[0m                 \u001b[0mself\u001b[0m\u001b[1;33m.\u001b[0m\u001b[0mconfig\u001b[0m \u001b[1;33m=\u001b[0m \u001b[0mjson\u001b[0m\u001b[1;33m.\u001b[0m\u001b[0mload\u001b[0m\u001b[1;33m(\u001b[0m\u001b[0mjson_file\u001b[0m\u001b[1;33m)\u001b[0m\u001b[1;33m\u001b[0m\u001b[1;33m\u001b[0m\u001b[0m\n\u001b[0;32m     63\u001b[0m \u001b[1;33m\u001b[0m\u001b[0m\n",
      "\u001b[1;31mFileNotFoundError\u001b[0m: [Errno 2] No such file or directory: 'word_level_config.json'"
     ]
    }
   ],
   "source": [
    "lines = gen_lyrics()[0].splitlines()"
   ]
  },
  {
   "cell_type": "code",
   "execution_count": null,
   "metadata": {},
   "outputs": [],
   "source": [
    "rhymes = post_process(lines)\n",
    "sort_dict(rhymes)"
   ]
  },
  {
   "cell_type": "code",
   "execution_count": null,
   "metadata": {
    "scrolled": true
   },
   "outputs": [],
   "source": [
    "out1(lines, rhymes)"
   ]
  },
  {
   "cell_type": "code",
   "execution_count": 17,
   "metadata": {},
   "outputs": [
    {
     "name": "stdout",
     "output_type": "stream",
     "text": [
      "(1, 1, 2, 3, 4)\n",
      "('one', 'one2', 'two', 'three', 'four')\n"
     ]
    }
   ],
   "source": [
    "list1 = [3,2,4,1, 1]\n",
    "list2 = ['three', 'two', 'four', 'one', 'one2']\n",
    "list1, list2 = zip(*sorted(zip(list1, list2)))\n",
    "print(list1)\n",
    "print(list2)"
   ]
  },
  {
   "cell_type": "code",
   "execution_count": null,
   "metadata": {},
   "outputs": [],
   "source": []
  }
 ],
 "metadata": {
  "kernelspec": {
   "display_name": "Python 3",
   "language": "python",
   "name": "python3"
  },
  "language_info": {
   "codemirror_mode": {
    "name": "ipython",
    "version": 3
   },
   "file_extension": ".py",
   "mimetype": "text/x-python",
   "name": "python",
   "nbconvert_exporter": "python",
   "pygments_lexer": "ipython3",
   "version": "3.7.3"
  }
 },
 "nbformat": 4,
 "nbformat_minor": 2
}
