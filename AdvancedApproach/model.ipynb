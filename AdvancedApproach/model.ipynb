{
 "cells": [
  {
   "cell_type": "code",
   "execution_count": 12,
   "metadata": {},
   "outputs": [],
   "source": [
    "from textgenrnn import textgenrnn\n",
    "word_level_model = textgenrnn('models_trained_not_new/chorus_model_weights.hdf5')\n",
    "                              #config_path='nelsonweights/intro_model_config.json',\n",
    "                              #vocab_path='nelsonweights/intro_model_vocab.json')"
   ]
  },
  {
   "cell_type": "code",
   "execution_count": 13,
   "metadata": {},
   "outputs": [
    {
     "name": "stderr",
     "output_type": "stream",
     "text": [
      "100%|██████████████████████████████████████████████████████████████████████████████████| 10/10 [00:10<00:00,  1.07s/it]\n"
     ]
    }
   ],
   "source": [
    "lines = word_level_model.generate(10, temperature=1.0, max_gen_length=100, return_as_list=True)"
   ]
  },
  {
   "cell_type": "code",
   "execution_count": 72,
   "metadata": {},
   "outputs": [
    {
     "name": "stdout",
     "output_type": "stream",
     "text": [
      "['\\n', '\\nthree, on my am t whole on, kissing from am from\\nlights from\\nam\\nt\\nfor running the, five for\\nrunning five up the for in\\n\\ntime the\\n\\n\\n\\nfrom\\n\\n, just the no almost']\n"
     ]
    }
   ],
   "source": [
    "print (lines)"
   ]
  },
  {
   "cell_type": "code",
   "execution_count": 8,
   "metadata": {},
   "outputs": [
    {
     "name": "stdout",
     "output_type": "stream",
     "text": [
      "####################\n",
      "Temperature: 0.5\n",
      "####################\n",
      "I swear you don't even have to have to say that I was your negase to be trying to be with an indemendas I'm calling itYour hands in the boss sheetsI know you know that you still call it about over the way I don't need to say you waited out to have your nigga's me in the truth in the crib that I cou\n",
      "\n",
      "Tell me how you could be it like and talk about (come on)You know what you want to do but I'm so saninyBut what to do to make it all to me but it's all about you and I was alone from the time to show you to take it to the streets he'd be the one you want you in my broadAlone with me like a bitch no\n",
      "\n",
      "I never thought that I can't be ready to find the sameFrade the chick there in the baddest baby, do you get your number on your head like a pick of here and you, I, would it boyYou are the first thing I want to have your nutsawed off another nameBut don't get money for the sameIf I had a better man\n",
      "\n",
      "####################\n",
      "Temperature: 0.6\n",
      "####################\n",
      "You're straight a mind of your calls I'll fall in loveNow she won't be born and no way to play for meLadies never got the end of themounated on your eyes, gimme the painI'm just trying to be in the hood, I don't wanna be right now he's not the one you could never get it allThat's the only one they \n",
      "\n",
      "Come on front of your love when you cameIn so cold and the light is your face is her, my Santa and It's one of my heaterAnd she's gon' leave me inside my graverTo make my soul and the truth can hear ya you know all them thugsI got the world and he was slowly home and it's felling on the shit foreve\n",
      "\n",
      "\n",
      "\n",
      "####################\n",
      "Temperature: 0.7\n",
      "####################\n",
      "I remember the things you don't make me before your face of reverencyMission I get to break my starterI'm just like my woman in my woma!nice glass, yeah she let you go all my minds (have you)And not a party (oh)I wish I would find the girlBe short snap to be the way I showNow you do it when you do \n",
      "\n",
      "It's not so fare of a different yet I'm the one you're thigh on and I had to control most things for mesatan she's all alone to party my charis in the morning I'm given to be thinkin' of your time' skin they disclarry if you were time to find the sounderRescived and pleaseYou say she doesn't you wa\n",
      "\n",
      " don't really had been strong at Mena want it that I'm not yoursHow to lose your narcomeReal like my house to the floorred for you, but I'm a friend to the roadMamaNames you strip 'till your worth the boss of your life I want you to take you and we be in the diamond, I'm singing on a way about youT\n",
      "\n",
      "####################\n",
      "Temperature: 0.8\n",
      "####################\n",
      "I am off the good is all that more we're always even been stuckin' clubHer tonight so better new spark under 50)\n",
      "\n",
      "You're getting too frencherIt's b like I am (trick the clothes)Sitting they talk the room of magnified cheesen on your frisboor to you, warm babyWe need a little lisedI know you got a chance with Kiss But is Your Forest Paperwhy I'm Where They Wanna Beliva.And I Wish it Or Gonna Wins A Gooriet Corn\n",
      "\n",
      "I don't truly stand this as ohIh's styleBut if you know they give meNobody seeing your slowly girlsCanayI want it and dark on my body out, now you're so many waySo please know you had that for me but its close in..Cause nothing was so huht it sleeping, but now I'm fresh that she want meI got to tru\n",
      "\n",
      "####################\n",
      "Temperature: 0.9\n",
      "####################\n",
      "Tell me living's right up aloneShe say to first in the tritch, I had your mind yet, I'm slowly tricks, make something to you, look inside of ya mindI'm the no inventices, taught her right back, I hate this will see, downWhen I'm in the paperway we got college on your fries struttle and whiteRard co\n",
      "\n",
      "Some strong when you cand around my haunting smileWith a lot of we gon grow, never seen down your its dirt that I got to have a big prikettie we could bring me here with youShe's honey and the man will be against this word it all as I'm differenYou so tripping out the bombGue late now\n",
      "\n",
      "You make me feel like this dayTown bitches, I'm ready to you(ohhoars), on your own painMake you don't know its you aloneYour bedI stupi far as it ain't otazed, that's why I'd let you want you, you gotta talk feel this dreamIs there for the place face tell me to be aint just another action who's kil\n",
      "\n"
     ]
    }
   ],
   "source": [
    "word_level_model.generate_samples(temperatures=[0.5, 0.6, 0.7, 0.8, 0.9])"
   ]
  },
  {
   "cell_type": "code",
   "execution_count": 18,
   "metadata": {},
   "outputs": [
    {
     "name": "stdout",
     "output_type": "stream",
     "text": [
      "['6 of 1O-o!Bow place in a Boom courble', \"Said you're making days and disguise me round to meDon't put first crazy lights and roads(`oWe meas\", \"Baby, let's take the party long like I learnGot no one in love nowA place and m“yea dumb didnd day \", 'Baby boys are a b', \"So take it on my side inside you?What do you go? I told one right with meLike I ain't doin to make \", 'Baby you let my (yeah)', \"I'm a black home-freesI know that I'll play turn around, conquer meI got nothing close to you, it's\"]\n"
     ]
    }
   ],
   "source": [
    "import rhymes\n",
    "\n",
    "# print (lines)\n",
    "lines2 = list()\n",
    "\n",
    "for line in lines:\n",
    "    split = line.splitlines()\n",
    "    for l in split:\n",
    "        lines2.append(l)\n",
    "print(lines2)\n",
    "\n",
    "rhyme_dict = dict()\n",
    "\n",
    "#Generate of list of last words from each line\n",
    "for index, line in enumerate(lines2):\n",
    "    if (len(line) == 0):\n",
    "        continue\n",
    "    try:\n",
    "        wordsInLine = line.split()\n",
    "        curr_word = \"\"\n",
    "        wordsInLine[-1] = wordsInLine[-1].lower()\n",
    "        #remove puncuation\n",
    "        for c in wordsInLine[-1]:\n",
    "            if ord(c) >= 97 and ord(c) <= 122:\n",
    "                curr_word += c\n",
    "                \n",
    "        #only add words (remove any empty strings)\n",
    "        if curr_word != \"\":\n",
    "            IT_RHYMES_BABYYY = False\n",
    "            for key in rhyme_dict.keys():\n",
    "                if (rhymes.doTheyRhyme(curr_word, key)):\n",
    "                    rhyme_dict[key].append(index)\n",
    "                    IT_RHYMES_BABYYY = True\n",
    "            if (not IT_RHYMES_BABYYY):\n",
    "                rhyme_dict[curr_word] = [index]\n",
    "    except:\n",
    "        #print (curr_word, ' was not found in the dictionary')\n",
    "        continue\n",
    "#print (rhyme_dict)"
   ]
  },
  {
   "cell_type": "code",
   "execution_count": 17,
   "metadata": {},
   "outputs": [
    {
     "ename": "IndexError",
     "evalue": "list index out of range",
     "output_type": "error",
     "traceback": [
      "\u001b[1;31m---------------------------------------------------------------------------\u001b[0m",
      "\u001b[1;31mIndexError\u001b[0m                                Traceback (most recent call last)",
      "\u001b[1;32m<ipython-input-17-b1a584c81298>\u001b[0m in \u001b[0;36m<module>\u001b[1;34m\u001b[0m\n\u001b[0;32m     16\u001b[0m     \u001b[0mrhyme_dict\u001b[0m\u001b[1;33m.\u001b[0m\u001b[0mpop\u001b[0m\u001b[1;33m(\u001b[0m\u001b[0mword\u001b[0m\u001b[1;33m)\u001b[0m\u001b[1;33m\u001b[0m\u001b[1;33m\u001b[0m\u001b[0m\n\u001b[0;32m     17\u001b[0m \u001b[1;33m\u001b[0m\u001b[0m\n\u001b[1;32m---> 18\u001b[1;33m \u001b[0mrhyme_count\u001b[0m \u001b[1;33m=\u001b[0m \u001b[0mrhymes\u001b[0m\u001b[1;33m.\u001b[0m\u001b[0mhowManyRhymes\u001b[0m\u001b[1;33m(\u001b[0m\u001b[0mordered_rhymes\u001b[0m\u001b[1;33m)\u001b[0m\u001b[1;33m\u001b[0m\u001b[1;33m\u001b[0m\u001b[0m\n\u001b[0m",
      "\u001b[1;32m~\\Desktop\\Homework\\Capstone-Project\\AdvancedApproach\\rhymes.py\u001b[0m in \u001b[0;36mhowManyRhymes\u001b[1;34m(lyrics)\u001b[0m\n\u001b[0;32m     68\u001b[0m \u001b[1;33m\u001b[0m\u001b[0m\n\u001b[0;32m     69\u001b[0m     \u001b[1;31m#Loop through and count rhymes\u001b[0m\u001b[1;33m\u001b[0m\u001b[1;33m\u001b[0m\u001b[1;33m\u001b[0m\u001b[0m\n\u001b[1;32m---> 70\u001b[1;33m     \u001b[0mprev_word\u001b[0m \u001b[1;33m=\u001b[0m \u001b[0mlistOfLastWords\u001b[0m\u001b[1;33m[\u001b[0m\u001b[1;36m0\u001b[0m\u001b[1;33m]\u001b[0m\u001b[1;33m\u001b[0m\u001b[1;33m\u001b[0m\u001b[0m\n\u001b[0m\u001b[0;32m     71\u001b[0m     \u001b[0malready_rhymed\u001b[0m \u001b[1;33m=\u001b[0m \u001b[1;32mFalse\u001b[0m\u001b[1;33m\u001b[0m\u001b[1;33m\u001b[0m\u001b[0m\n\u001b[0;32m     72\u001b[0m     \u001b[1;32mfor\u001b[0m \u001b[0mi\u001b[0m \u001b[1;32min\u001b[0m \u001b[0mrange\u001b[0m\u001b[1;33m(\u001b[0m\u001b[1;36m1\u001b[0m\u001b[1;33m,\u001b[0m \u001b[0mlen\u001b[0m\u001b[1;33m(\u001b[0m\u001b[0mlistOfLastWords\u001b[0m\u001b[1;33m)\u001b[0m\u001b[1;33m)\u001b[0m\u001b[1;33m:\u001b[0m\u001b[1;33m\u001b[0m\u001b[1;33m\u001b[0m\u001b[0m\n",
      "\u001b[1;31mIndexError\u001b[0m: list index out of range"
     ]
    }
   ],
   "source": [
    "# remove lines that don't rhyme with any other line\n",
    "\n",
    "import importlib\n",
    "importlib.reload(rhymes)\n",
    "\n",
    "ordered_rhymes = []\n",
    "to_remove = []\n",
    "for key in rhyme_dict.keys():\n",
    "    if len(rhyme_dict[key]) < 2:\n",
    "        to_remove.append(key)\n",
    "        continue\n",
    "    for index in rhyme_dict[key]:\n",
    "        ordered_rhymes.append(lines2[index])\n",
    "        \n",
    "for word in to_remove:\n",
    "    rhyme_dict.pop(word)\n",
    "    \n",
    "rhyme_count = rhymes.howManyRhymes(ordered_rhymes)"
   ]
  },
  {
   "cell_type": "code",
   "execution_count": 16,
   "metadata": {},
   "outputs": [
    {
     "name": "stdout",
     "output_type": "stream",
     "text": [
      "What rhyming scheme would you like to use? (A to Z)\n",
      "AABB\n",
      "{'A': 2, 'B': 2}\n",
      "{}\n"
     ]
    },
    {
     "ename": "KeyError",
     "evalue": "'A'",
     "output_type": "error",
     "traceback": [
      "\u001b[1;31m---------------------------------------------------------------------------\u001b[0m",
      "\u001b[1;31mKeyError\u001b[0m                                  Traceback (most recent call last)",
      "\u001b[1;32m<ipython-input-16-13f5fc7b2c69>\u001b[0m in \u001b[0;36m<module>\u001b[1;34m\u001b[0m\n\u001b[0;32m     36\u001b[0m \u001b[1;32mfor\u001b[0m \u001b[0mchar\u001b[0m \u001b[1;32min\u001b[0m \u001b[0mrhyme_scheme\u001b[0m\u001b[1;33m:\u001b[0m\u001b[1;33m\u001b[0m\u001b[1;33m\u001b[0m\u001b[0m\n\u001b[0;32m     37\u001b[0m     \u001b[1;32mif\u001b[0m \u001b[1;33m(\u001b[0m\u001b[0mchar\u001b[0m \u001b[1;32mnot\u001b[0m \u001b[1;32min\u001b[0m \u001b[0mrhyme_indices\u001b[0m\u001b[1;33m)\u001b[0m\u001b[1;33m:\u001b[0m\u001b[1;33m\u001b[0m\u001b[1;33m\u001b[0m\u001b[0m\n\u001b[1;32m---> 38\u001b[1;33m         \u001b[0mprint\u001b[0m \u001b[1;33m(\u001b[0m\u001b[0mlines2\u001b[0m\u001b[1;33m[\u001b[0m\u001b[0mletter_to_rhyme\u001b[0m\u001b[1;33m[\u001b[0m\u001b[0mchar\u001b[0m\u001b[1;33m]\u001b[0m\u001b[1;33m[\u001b[0m\u001b[1;36m0\u001b[0m\u001b[1;33m]\u001b[0m\u001b[1;33m]\u001b[0m\u001b[1;33m)\u001b[0m\u001b[1;33m\u001b[0m\u001b[1;33m\u001b[0m\u001b[0m\n\u001b[0m\u001b[0;32m     39\u001b[0m         \u001b[0mrhyme_indices\u001b[0m\u001b[1;33m[\u001b[0m\u001b[0mchar\u001b[0m\u001b[1;33m]\u001b[0m \u001b[1;33m=\u001b[0m \u001b[1;36m1\u001b[0m\u001b[1;33m\u001b[0m\u001b[1;33m\u001b[0m\u001b[0m\n\u001b[0;32m     40\u001b[0m     \u001b[1;32melse\u001b[0m\u001b[1;33m:\u001b[0m\u001b[1;33m\u001b[0m\u001b[1;33m\u001b[0m\u001b[0m\n",
      "\u001b[1;31mKeyError\u001b[0m: 'A'"
     ]
    }
   ],
   "source": [
    "# given rhyming scheme input, output generated lines with given rhyming scheme\n",
    "\n",
    "import re\n",
    "\n",
    "print ('What rhyming scheme would you like to use? (A to Z)')\n",
    "rhyme_scheme = input()\n",
    "if (not re.fullmatch('[A-Z]+', rhyme_scheme)):\n",
    "    print ('That is not a valid rhyming scheme.')\n",
    "    exit()\n",
    "    \n",
    "# count the required number of lines for each letter/section of the rhyming scheme\n",
    "rhyme_counts = dict()\n",
    "for char in rhyme_scheme:\n",
    "    if char in rhyme_counts:\n",
    "        rhyme_counts[char] += 1\n",
    "    else:\n",
    "        rhyme_counts[char] = 1\n",
    "print (rhyme_counts)\n",
    "\n",
    "# map each letter/section of the rhyming scheme to a rhyme in rhyme_dict\n",
    "used_rhymes = set()\n",
    "letter_to_rhyme = dict()\n",
    "for letter in rhyme_counts.keys():\n",
    "    for rhyme in rhyme_dict.keys():\n",
    "        # if the current rhyme has enough rhymes for the current letter in the rhyming scheme\n",
    "        # AND the rhyme hasn't been used, use it\n",
    "        if (len(rhyme_dict[rhyme]) >= rhyme_counts[letter] and rhyme not in used_rhymes):\n",
    "            letter_to_rhyme[letter] = rhyme_dict[rhyme]\n",
    "            used_rhymes.add(rhyme)\n",
    "            break\n",
    "            \n",
    "print (letter_to_rhyme)\n",
    "\n",
    "# print the results!\n",
    "rhyme_indices = dict()\n",
    "for char in rhyme_scheme:\n",
    "    if (char not in rhyme_indices):\n",
    "        print (lines2[letter_to_rhyme[char][0]])\n",
    "        rhyme_indices[char] = 1\n",
    "    else:\n",
    "        print (lines2[letter_to_rhyme[char][rhyme_indices[char]]])\n",
    "        rhyme_indices[char] += 1"
   ]
  },
  {
   "cell_type": "code",
   "execution_count": null,
   "metadata": {},
   "outputs": [],
   "source": [
    "# intro AABAAB\n",
    "# chorus AABAAB\n",
    "# verse AAAAAA\n",
    "# bridge CCCADD"
   ]
  }
 ],
 "metadata": {
  "kernelspec": {
   "display_name": "Python 3",
   "language": "python",
   "name": "python3"
  },
  "language_info": {
   "codemirror_mode": {
    "name": "ipython",
    "version": 3
   },
   "file_extension": ".py",
   "mimetype": "text/x-python",
   "name": "python",
   "nbconvert_exporter": "python",
   "pygments_lexer": "ipython3",
   "version": "3.7.3"
  },
  "pycharm": {
   "stem_cell": {
    "cell_type": "raw",
    "metadata": {
     "collapsed": false
    },
    "source": []
   }
  }
 },
 "nbformat": 4,
 "nbformat_minor": 4
}
