{
 "cells": [
  {
   "cell_type": "code",
   "execution_count": null,
   "metadata": {},
   "outputs": [],
   "source": [
    "from textgenrnn import textgenrnn\n",
    "word_level_model = textgenrnn('full_dataset_word_level.hdf5',\n",
    "                              vocab_path='word_level_vocab.json',\n",
    "                              config_path='word_level_config.json')"
   ]
  },
  {
   "cell_type": "code",
   "execution_count": null,
   "metadata": {},
   "outputs": [],
   "source": [
    "lines = word_level_model.generate(1, temperature=1.0, max_gen_length=1000, return_as_list=True)"
   ]
  },
  {
   "cell_type": "code",
   "execution_count": null,
   "metadata": {},
   "outputs": [],
   "source": [
    "import rhymes\n",
    "\n",
    "lines = lines[0].splitlines()\n",
    "\n",
    "rhyme_dict = dict()\n",
    "\n",
    "#Generate of list of last words from each line\n",
    "for index, line in enumerate(lines):\n",
    "    if (len(line) == 0):\n",
    "        continue\n",
    "    try:\n",
    "        wordsInLine = line.split()\n",
    "        curr_word = \"\"\n",
    "        wordsInLine[-1] = wordsInLine[-1].lower()\n",
    "        #remove puncuation\n",
    "        for c in wordsInLine[-1]:\n",
    "            if ord(c) >= 97 and ord(c) <= 122:\n",
    "                curr_word += c\n",
    "                \n",
    "        #only add words (remove any empty strings)\n",
    "        if curr_word != \"\":\n",
    "            IT_RHYMES_BABYYY = False\n",
    "            for key in rhyme_dict.keys():\n",
    "                if (rhymes.doTheyRhyme(curr_word, key)):\n",
    "                    rhyme_dict[key].append(index)\n",
    "                    IT_RHYMES_BABYYY = True\n",
    "            if (not IT_RHYMES_BABYYY):\n",
    "                rhyme_dict[curr_word] = [index]\n",
    "    except:\n",
    "        print (curr_word, ' was not found in the dictionary')\n",
    "        continue\n",
    "print (rhyme_dict)"
   ]
  },
  {
   "cell_type": "code",
   "execution_count": null,
   "metadata": {},
   "outputs": [],
   "source": [
    "# remove lines that don't rhyme with any other line\n",
    "\n",
    "import importlib\n",
    "importlib.reload(rhymes)\n",
    "\n",
    "ordered_rhymes = []\n",
    "to_remove = []\n",
    "for key in rhyme_dict.keys():\n",
    "    if len(rhyme_dict[key]) < 2:\n",
    "        to_remove.append(key)\n",
    "        continue\n",
    "    for index in rhyme_dict[key]:\n",
    "        ordered_rhymes.append(lines2[index])\n",
    "        \n",
    "for word in to_remove:\n",
    "    rhyme_dict.pop(word)\n",
    "    \n",
    "rhyme_count = rhymes.howManyRhymes(ordered_rhymes)"
   ]
  },
  {
   "cell_type": "code",
   "execution_count": null,
   "metadata": {},
   "outputs": [],
   "source": [
    "# given rhyming scheme input, output generated lines with given rhyming scheme\n",
    "\n",
    "import re\n",
    "\n",
    "print ('What rhyming scheme would you like to use? (A to Z)')\n",
    "rhyme_scheme = input()\n",
    "if (not re.fullmatch('[A-Z]+', rhyme_scheme)):\n",
    "    print ('That is not a valid rhyming scheme.')\n",
    "    exit()\n",
    "    \n",
    "# count the required number of lines for each letter/section of the rhyming scheme\n",
    "rhyme_counts = dict()\n",
    "for char in rhyme_scheme:\n",
    "    if char in rhyme_counts:\n",
    "        rhyme_counts[char] += 1\n",
    "    else:\n",
    "        rhyme_counts[char] = 1\n",
    "print (rhyme_counts)\n",
    "\n",
    "# map each letter/section of the rhyming scheme to a rhyme in rhyme_dict\n",
    "used_rhymes = set()\n",
    "letter_to_rhyme = dict()\n",
    "for letter in rhyme_counts.keys():\n",
    "    for rhyme in rhyme_dict.keys():\n",
    "        # if the current rhyme has enough rhymes for the current letter in the rhyming scheme\n",
    "        # AND the rhyme hasn't been used, use it\n",
    "        if (len(rhyme_dict[rhyme]) >= rhyme_counts[letter] and rhyme not in used_rhymes):\n",
    "            letter_to_rhyme[letter] = rhyme_dict[rhyme]\n",
    "            used_rhymes.add(rhyme)\n",
    "            break\n",
    "            \n",
    "print (letter_to_rhyme)\n",
    "\n",
    "# print the results!\n",
    "rhyme_indices = dict()\n",
    "for char in rhyme_scheme:\n",
    "    if (char not in rhyme_indices):\n",
    "        print (lines[letter_to_rhyme[char][0]])\n",
    "        rhyme_indices[char] = 1\n",
    "    else:\n",
    "        print (lines[letter_to_rhyme[char][rhyme_indices[char]]])\n",
    "        rhyme_indices[char] += 1"
   ]
  }
 ],
 "metadata": {
  "kernelspec": {
   "display_name": "Python 3",
   "language": "python",
   "name": "python3"
  },
  "language_info": {
   "codemirror_mode": {
    "name": "ipython",
    "version": 3
   },
   "file_extension": ".py",
   "mimetype": "text/x-python",
   "name": "python",
   "nbconvert_exporter": "python",
   "pygments_lexer": "ipython3",
   "version": "3.7.6"
  }
 },
 "nbformat": 4,
 "nbformat_minor": 4
}
