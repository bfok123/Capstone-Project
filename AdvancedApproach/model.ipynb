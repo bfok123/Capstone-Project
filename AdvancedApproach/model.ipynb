{
 "cells": [
  {
   "cell_type": "code",
   "execution_count": 1,
   "metadata": {},
   "outputs": [
    {
     "name": "stderr",
     "output_type": "stream",
     "text": [
      "Using TensorFlow backend.\n"
     ]
    }
   ],
   "source": [
    "from textgenrnn import textgenrnn\n",
    "word_level_model = textgenrnn('nelsonweights/intro_model_weights.hdf5',\n",
    "                              config_path='nelsonweights/intro_model_config.json',\n",
    "                              vocab_path='nelsonweights/intro_model_vocab.json')"
   ]
  },
  {
   "cell_type": "code",
   "execution_count": 4,
   "metadata": {},
   "outputs": [
    {
     "name": "stderr",
     "output_type": "stream",
     "text": [
      "100%|██████████████████████████████████████████████████████████████████████████████████| 50/50 [00:48<00:00,  1.03it/s]\n"
     ]
    }
   ],
   "source": [
    "lines = word_level_model.generate(50, temperature=1.0, max_gen_length=100, return_as_list=True)"
   ]
  },
  {
   "cell_type": "code",
   "execution_count": 6,
   "metadata": {},
   "outputs": [
    {
     "name": "stdout",
     "output_type": "stream",
     "text": [
      "['', 'on', '', 'i know about you', 'you but if if if if if your feeling gotta be', '', '', 'gotta do', 'do', '', 'i super turnt super turnt', 'up', 'i i', 'i i my all', 'me', 'and', '', 'me', '', '', '', '', '', '', '', 'i super turnt up i', 'super turnt super turnt super super up i', 'turnt up up up', '', 'you can deny it i straight me', 'me a me me me', 'me', 'me me', 'me you me me', 'with with dem boys boys is stunt me', '', 'going crazy my my heart', '', '', 'so sick i i rest', 'up could could in cause i beat', 'two could me nothing so', 'these beat are beat up rest', '', 'one be', '', '', 'i two rest i', 'my', '', 'your no', '', 'to it have be', '', 'be', 'you seems you', '', 'to it', '', 'you to have be be say be right or no right have you got know you got', 'what you like now know you to got to know be', 'to to no go go go', '', 'ha ha ha ha ha ha ha ha ha ha', '', 'ha ha', 'what ha ha ha ha ha ha ha ha ha ha ha ha ha', 'ha ha', '', 'ha ha', '', 'yo bout them them four bout your bout tell -', 'tell bout words to bout', 'to words', '- i to', 'i uh bout', 'you', '', 'i i cuss', '', 'words to another i it i i said often but i down i mean this i this often this i sip often but mean i do said this know i i but what word 29 old', '', '', '', 'oh', 'la da la la la', '', 'la la oh', 'la', '', 'do wanna', 'i i i i i', '-', 'da da do do do', '', 'uh yeah i like yeah that', '', '', 'lil', '', 'going crazy heart', '', 'how why all all all there you there all we been been we need need talk there', 'something', '', '', '', '', 'my', 'now', 'dig on well we the on', 'on', '', '', 'for', 'for on', '', 'bout buy', 'truck', '', 'you know about but if if feeling gotta', '', 'gotta be be be do', 'to be be be', '', 'i been', '', 'running i all i me wish wish wish wish', '', 'i love your', '', 'love love your', 'love', 'the the that', 'the', '', 'with like', 'like', 'like like', 'that that that that', 'that that that that yeah that', '', 'yeah yeah yeah', '', 'that yeah a', 'yeah yeah', '', '', 'oh', 'this want big do you tell meech you in always say say only only things only say for for only - for - - there say my either', 'or time', 'with', '', 'with', 'no time', 'no no lives', '', 'no have no time time time no time dont time with', 'or no no time time can time no no time here here here here here here here here here', '', '3ldub a baby', '', 'the hit maker the playas play haters gon', 'hate gonna', 'gonna', 'gonna', 'gonna', 'gonna', 'ballers', '', 'that me way call', '', 'ball', 'let gonna', 'ballers yeah gonna hate hate', 'the how know gonna', '', '', 'is is way way is way is is', 'you', '', 'is -', 'is', 'that it want that way with way way the way way that', 'you want i i', 'want know i know', 'your do to do not know', '', '', 'too know', '', 'uh uh uh uh uh', '', '', '', '', '', 'yeah i like', 'that', 'like you yeah', '', 'uh uh uh', 'uh uh uh', '', '', '', '', '', 'yo them often i you you i you - i thought i but your i i i i you you get i get i', 'you around i one', 'really', '', 'but', 'i you get you i four to not cuss to not i i not word', 'to not not i i not i i not', 'to not', 'not not not i i often often i cuss you often bout you - words mean words - often mean mean - bout -', 'words', 'but but said girls but', 'words', '', 'oh', '', 'what rise ever', '', '', '', 'i', '', '', 'worry i i leave our love will love', 'wanted of make to me to', '', '', 'to', 'want', 'we be to to want to 1 one be to to still to be love want right want there one will be we we one want there while sing with with how is how how me is me me me with me me how how me me me me how our god with with me with great god will our god our great our our', '', 'i like', 'you can deny a a i a i a a a a i i i a i it a i i i straight me uh with you with you me got', 'with me got with with wanna', 'me with with with you got got you you with with me with dem boys boys stunt like like like', '', '', 'yeah', '', '', '', 'uh uh come come on on ha', 'ha ha ha ha ha ha ha ha ha ha', 'ha ha ha', 'ha', 'ha ha ha ha ha', '', 'the with', 'is a uh uh a it one', 'baby baby yeah', '', 'baby', '', '', '', 'baby', '', 'get', '', '', '', 'yeah so baby seemed be to be be be be to be be be be ahhh be be be to to thick be to our', 'to to oh will', 'be', 'thick', 'our with our our with', 'all no lives right or with keep', 'to our keep right fuss right with they', '', 'into fuss into fuss and right our our right our', '', 'uh uh uh yeah', '', '', '', '', '', '', 'yo them tell tell thought we you you bout not it know you tell me tell tell you you', 'you', 'me me tell tell', 'me want me me me realness your your give realness give give your all', '', 'better that brass go', '', '', '', '', '', '', '', '', '', '', 'shake it shake it it', '', 'forget this live forget', 'with live', '', '', '', '', 'is', '', 'this with', 'way it way it is to', 'i is get with want i', '', 'for', '', 'i would thank the judges for for picking me me me parents you i', '', '', '', '', 'i i', 'i', 'love love', '', 'the winner knowles', 'female pop pop pop', '', '', '', '', '', '', 'uh come on what what all', 'i know it not know i too i know not i', 'i know i i very - - - now - - - - i - - i let', '- let - you - - - - - - -', '- me - - that - - - - - - speak', '', 'it just get get better', '', '', '', '', 'it one', '', '', '', '', '', '', '', '', '', '', '', 'yeah', '', '', '', '', 'i love your', '', '', 'you love', 'the the sugar babe babe', '', 'so gon gon', 'so so gon', 'gon do', 'what gon we do so', 'do you', 'so you we you', '', 'what so you what', 'what', 'you do you what do what what you what what what so so what', 'do gon what gon gon gon do do what gon what so what do what gon do do what what do gon do do do do gon gon gon what do gon do we gon do what', 'do gon do what what do gon', 'so do what what', '', '', 'all people against against down', 'me in against', '', 'take its do a', 'in its - are - - - - - - - -', '-', '-', 'its', 'are', '', 'i been running all great god god', 'will', '', 'in the backseat my my of love love heart cause', '', '', '', '', '', '', 'time', '', '', '', '', '', '', '', 'it just better it get it', 'better', '', '', '', 'oh oh', 'oh', 'la day day day day da da la la', '', 'oh', '', 'open heart up let me inside', 'it open open heart heart', '', 'your', '', '', '', '', '', 'your', '', 'going crazy my heart i i', 'is is i', 'can sleep this at trying do to at', 'throught what what i that do do only this that', 'only', 'to', 'only got to to', 'they playas hate play they they gonna they they play they they', 'they they they play gonna and play', 'they they they hate they they callers they gonna they callers gonna callers', 'shot ball', 'call', 'do', '', 'with', 'do', '', '-', 'is do', '', '', '', '', 'you', '', 'go ahhhh']\n",
      "turnt  was not found in the dictionary\n",
      "gon  was not found in the dictionary\n",
      "ballers  was not found in the dictionary\n",
      "gon  was not found in the dictionary\n",
      "gon  was not found in the dictionary\n",
      "gon  was not found in the dictionary\n",
      "ahhhh  was not found in the dictionary\n",
      "{'on': [1, 110, 111, 115], 'you': [3, 7, 8, 55, 74, 76, 93, 122, 179, 231, 234, 285, 286, 312, 370, 372, 373, 438, 439, 445, 448, 451, 456], 'be': [4, 14, 17, 29, 30, 31, 32, 33, 34, 44, 52, 54, 60, 123, 270], 'up': [11, 27, 118, 212, 218, 375, 376, 377, 378, 380], 'i': [12, 25, 26, 47, 48, 91, 108, 117, 184, 208, 227, 313, 317, 322, 323, 335, 433, 434], 'all': [13, 114, 129, 131, 170, 172, 288, 315, 334, 362, 425, 431, 443, 444], 'and': [15], 'heart': [36, 100, 423], 'rest': [39, 42], 'beat': [40, 273, 338], 'so': [41, 50, 61, 84, 87, 148, 185, 186, 189, 221, 290, 371, 416, 417, 420], 'it': [57, 271, 301, 411], 'got': [59, 214, 215, 239, 327, 393], 'ha': [63, 65, 66, 67, 69, 85, 88, 248, 249, 250, 251, 252, 418], 'bout': [72, 75], 'words': [73, 217, 219], 'cuss': [78, 132, 230, 324, 365], 'old': [80], 'wanna': [90, 134, 144, 163, 164, 165, 166, 167, 173, 175, 240, 386], 'that': [95, 133, 139, 140, 183, 198, 435, 436], 'lil': [98, 269, 394], 'there': [102, 287], 'something': [103], 'now': [109], 'gotta': [120, 134, 144, 386], 'been': [125], 'wish': [127, 151, 153, 157, 178, 182, 254, 272, 309, 311, 447], 'like': [136, 137, 138, 197, 238, 241, 422], 'yeah': [142, 145, 199, 244, 256, 278, 357], 'either': [149], 'time': [150, 154, 403], 'lives': [155], 'here': [158], 'baby': [160, 258, 262], 'hate': [174, 366], 'uh': [191, 201, 202], 'one': [209, 255, 345], 'really': [210], 'word': [213], 'ever': [223], 'want': [235], 'our': [236, 268, 276], 'get': [264, 303, 336], 'they': [274, 440, 441], 'live': [304], 'knowles': [326], 'better': [340, 412], 'down': [383], 'against': [384], 'its': [390], 'are': [391], 'cause': [396], 'only': [437], 'callers': [442]}\n"
     ]
    }
   ],
   "source": [
    "import rhymes\n",
    "\n",
    "# print (lines)\n",
    "lines2 = []\n",
    "\n",
    "for line in lines:\n",
    "    split = line.splitlines()\n",
    "    for l in split:\n",
    "        lines2.append(l)\n",
    "print(lines2)\n",
    "\n",
    "rhyme_dict = dict()\n",
    "\n",
    "#Generate of list of last words from each line\n",
    "for index, line in enumerate(lines2):\n",
    "    if (len(line) == 0):\n",
    "        continue\n",
    "    try:\n",
    "        wordsInLine = line.split()\n",
    "        curr_word = \"\"\n",
    "        wordsInLine[-1] = wordsInLine[-1].lower()\n",
    "        #remove puncuation\n",
    "        for c in wordsInLine[-1]:\n",
    "            if ord(c) >= 97 and ord(c) <= 122:\n",
    "                curr_word += c\n",
    "                \n",
    "        #only add words (remove any empty strings)\n",
    "        if curr_word != \"\":\n",
    "            IT_RHYMES_BABYYY = False\n",
    "            for key in rhyme_dict.keys():\n",
    "                if (rhymes.doTheyRhyme(curr_word, key)):\n",
    "                    rhyme_dict[key].append(index)\n",
    "                    IT_RHYMES_BABYYY = True\n",
    "            if (not IT_RHYMES_BABYYY):\n",
    "                rhyme_dict[curr_word] = [index]\n",
    "    except:\n",
    "        print (curr_word, ' was not found in the dictionary')\n",
    "        continue\n",
    "print (rhyme_dict)"
   ]
  },
  {
   "cell_type": "code",
   "execution_count": null,
   "metadata": {},
   "outputs": [],
   "source": [
    "print (lines2)"
   ]
  },
  {
   "cell_type": "code",
   "execution_count": 7,
   "metadata": {},
   "outputs": [],
   "source": [
    "# remove lines that don't rhyme with any other line\n",
    "\n",
    "import importlib\n",
    "importlib.reload(rhymes)\n",
    "\n",
    "ordered_rhymes = []\n",
    "to_remove = []\n",
    "for key in rhyme_dict.keys():\n",
    "    if len(rhyme_dict[key]) < 2:\n",
    "        to_remove.append(key)\n",
    "        continue\n",
    "    for index in rhyme_dict[key]:\n",
    "        ordered_rhymes.append(lines2[index])\n",
    "        \n",
    "for word in to_remove:\n",
    "    rhyme_dict.pop(word)\n",
    "    \n",
    "rhyme_count = rhymes.howManyRhymes(ordered_rhymes)"
   ]
  },
  {
   "cell_type": "code",
   "execution_count": 8,
   "metadata": {},
   "outputs": [
    {
     "name": "stdout",
     "output_type": "stream",
     "text": [
      "What rhyming scheme would you like to use? (A to Z)\n",
      "AABAAB\n",
      "{'A': 4, 'B': 2}\n",
      "{'A': [1, 110, 111, 115], 'B': [3, 7, 8, 55, 74, 76, 93, 122, 179, 231, 234, 285, 286, 312, 370, 372, 373, 438, 439, 445, 448, 451, 456]}\n",
      "on\n",
      "dig on well we the on\n",
      "i know about you\n",
      "on\n",
      "for on\n",
      "gotta do\n"
     ]
    }
   ],
   "source": [
    "# given rhyming scheme input, output generated lines with given rhyming scheme\n",
    "\n",
    "import re\n",
    "\n",
    "print ('What rhyming scheme would you like to use? (A to Z)')\n",
    "rhyme_scheme = input()\n",
    "if (not re.fullmatch('[A-Z]+', rhyme_scheme)):\n",
    "    print ('That is not a valid rhyming scheme.')\n",
    "    exit()\n",
    "    \n",
    "# count the required number of lines for each letter/section of the rhyming scheme\n",
    "rhyme_counts = dict()\n",
    "for char in rhyme_scheme:\n",
    "    if char in rhyme_counts:\n",
    "        rhyme_counts[char] += 1\n",
    "    else:\n",
    "        rhyme_counts[char] = 1\n",
    "print (rhyme_counts)\n",
    "\n",
    "# map each letter/section of the rhyming scheme to a rhyme in rhyme_dict\n",
    "used_rhymes = set()\n",
    "letter_to_rhyme = dict()\n",
    "for letter in rhyme_counts.keys():\n",
    "    for rhyme in rhyme_dict.keys():\n",
    "        # if the current rhyme has enough rhymes for the current letter in the rhyming scheme\n",
    "        # AND the rhyme hasn't been used, use it\n",
    "        if (len(rhyme_dict[rhyme]) >= rhyme_counts[letter] and rhyme not in used_rhymes):\n",
    "            letter_to_rhyme[letter] = rhyme_dict[rhyme]\n",
    "            used_rhymes.add(rhyme)\n",
    "            break\n",
    "            \n",
    "print (letter_to_rhyme)\n",
    "\n",
    "# print the results!\n",
    "rhyme_indices = dict()\n",
    "for char in rhyme_scheme:\n",
    "    if (char not in rhyme_indices):\n",
    "        print (lines2[letter_to_rhyme[char][0]])\n",
    "        rhyme_indices[char] = 1\n",
    "    else:\n",
    "        print (lines2[letter_to_rhyme[char][rhyme_indices[char]]])\n",
    "        rhyme_indices[char] += 1"
   ]
  },
  {
   "cell_type": "code",
   "execution_count": 49,
   "metadata": {},
   "outputs": [
    {
     "name": "stdout",
     "output_type": "stream",
     "text": [
      "even though it seems\n"
     ]
    }
   ],
   "source": []
  },
  {
   "cell_type": "code",
   "execution_count": null,
   "metadata": {},
   "outputs": [],
   "source": [
    "# intro AABAAB\n",
    "# chorus AABAAB\n",
    "# verse AAAAAA\n",
    "# bridge CCCADD"
   ]
  }
 ],
 "metadata": {
  "kernelspec": {
   "display_name": "Python 3",
   "language": "python",
   "name": "python3"
  },
  "language_info": {
   "codemirror_mode": {
    "name": "ipython",
    "version": 3
   },
   "file_extension": ".py",
   "mimetype": "text/x-python",
   "name": "python",
   "nbconvert_exporter": "python",
   "pygments_lexer": "ipython3",
   "version": "3.7.6"
  },
  "pycharm": {
   "stem_cell": {
    "cell_type": "raw",
    "source": [],
    "metadata": {
     "collapsed": false
    }
   }
  }
 },
 "nbformat": 4,
 "nbformat_minor": 4
}